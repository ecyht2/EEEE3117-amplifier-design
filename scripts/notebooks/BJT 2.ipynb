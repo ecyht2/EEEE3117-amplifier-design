{
  "metadata": {
    "kernelspec": {
      "name": "python",
      "display_name": "Python (Pyodide)",
      "language": "python"
    },
    "language_info": {
      "codemirror_mode": {
        "name": "python",
        "version": 3
      },
      "file_extension": ".py",
      "mimetype": "text/x-python",
      "name": "python",
      "nbconvert_exporter": "python",
      "pygments_lexer": "ipython3",
      "version": "3.8"
    }
  },
  "nbformat_minor": 4,
  "nbformat": 4,
  "cells": [
    {
      "cell_type": "markdown",
      "source": "# Constants",
      "metadata": {}
    },
    {
      "cell_type": "code",
      "source": "V_T = 26e-3\nV_CC = 15\nV_BE = 0.7\nbeta = 150\nV_A = 65\n\nR_1 = 6e3\nR_2 = 8e3\nR_C = 20e3\nR_E = 38e3",
      "metadata": {
        "trusted": true
      },
      "outputs": [],
      "execution_count": 21
    },
    {
      "cell_type": "code",
      "source": "def par_res(*res: list[float]) -> float:\n    return sum(map(lambda x: x**-1, res))**-1",
      "metadata": {
        "trusted": true
      },
      "outputs": [],
      "execution_count": 22
    },
    {
      "cell_type": "markdown",
      "source": "# DC Analysis",
      "metadata": {}
    },
    {
      "cell_type": "code",
      "source": "import sympy\n\nI_B = sympy.symbols(\"I_B\")\nV_THs, R_THs = sympy.symbols(\"V_TH R_TH\")\nV_BEs, betas = sympy.symbols(\"V_BE beta\")\nR_1s, R_2s, R_Es = sympy.symbols(\"R_1 R_2 R_E\")\n\nR_TH = par_res(R_1, R_2)\nV_TH = V_CC * R_2 / (R_1 + R_2)\nexpr = sympy.solve(-V_THs + I_B * R_THs + V_BEs + (1 + betas) * I_B * R_Es, I_B)[0]\ndisplay(expr)\nI_B = expr.subs({ V_BEs: V_BE, V_THs: V_TH, R_Es: R_E, R_THs: R_TH, betas: beta })\nI_C = beta * I_B\nprint(f\"I_B: {I_B}\")\nprint(f\"I_C: {I_C}\")",
      "metadata": {
        "trusted": true
      },
      "outputs": [
        {
          "output_type": "display_data",
          "data": {
            "text/plain": "(-V_BE + V_TH)/(R_E*beta + R_E + R_TH)",
            "text/latex": "$\\displaystyle \\frac{- V_{BE} + V_{TH}}{R_{E} \\beta + R_{E} + R_{TH}}$"
          },
          "metadata": {}
        },
        {
          "name": "stdout",
          "text": "I_B: 0.00000137098780791242\nI_C: 0.000205648171186862\n",
          "output_type": "stream"
        }
      ],
      "execution_count": 23
    },
    {
      "cell_type": "markdown",
      "source": "# AC Analysis",
      "metadata": {}
    },
    {
      "cell_type": "code",
      "source": "r_pi = V_T / I_B\ng_m = I_C / V_T\nr_0 = V_A / I_C\n\nprint(f\"r_pi: {r_pi}\")\nprint(f\"g_m: {g_m}\")\nprint(f\"r_0: {r_0}\")",
      "metadata": {
        "trusted": true
      },
      "outputs": [
        {
          "name": "stdout",
          "text": "r_pi: 18964.4283121597\ng_m: 0.00790954504564855\nr_0: 316073.805202662\n",
          "output_type": "stream"
        }
      ],
      "execution_count": 24
    },
    {
      "cell_type": "code",
      "source": "import sympy\n\nv_pi = sympy.symbols(\"v_pi\")\nr_pis, g_ms, r_0s = sympy.symbols(\"r_pi g_m r_0\")\nR_1s, R_2s, R_Cs = sympy.symbols(\"R_1 R_2 R_C\")\nR_1_p_R_2 = par_res(R_1, R_2, r_pi)\nV_o = -g_ms * v_pi * par_res(R_Cs, r_0s)\nV_i = v_pi * (R_1_p_R_2 + 8e3) / R_1_p_R_2\nexpr = V_o / V_i\n\ndisplay(V_o, V_i, expr)\ngain = expr.subs({ g_ms: g_m, R_Cs: R_C, r_0s: r_0 })\nprint(f\"A_v: {gain}\")",
      "metadata": {
        "trusted": true
      },
      "outputs": [
        {
          "output_type": "display_data",
          "data": {
            "text/plain": "-g_m*v_pi/(1/r_0 + 1/R_C)",
            "text/latex": "$\\displaystyle - \\frac{g_{m} v_{\\pi}}{\\frac{1}{r_{0}} + \\frac{1}{R_{C}}}$"
          },
          "metadata": {}
        },
        {
          "output_type": "display_data",
          "data": {
            "text/plain": "3.75517573576792*v_pi",
            "text/latex": "$\\displaystyle 3.75517573576792 v_{\\pi}$"
          },
          "metadata": {}
        },
        {
          "output_type": "display_data",
          "data": {
            "text/plain": "-0.266299121629657*g_m/(1/r_0 + 1/R_C)",
            "text/latex": "$\\displaystyle - \\frac{0.266299121629657 g_{m}}{\\frac{1}{r_{0}} + \\frac{1}{R_{C}}}$"
          },
          "metadata": {}
        },
        {
          "name": "stdout",
          "text": "A_v: -39.6191428054132\n",
          "output_type": "stream"
        }
      ],
      "execution_count": 28
    }
  ]
}