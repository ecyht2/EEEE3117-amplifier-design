{
  "metadata": {
    "kernelspec": {
      "name": "python",
      "display_name": "Python (Pyodide)",
      "language": "python"
    },
    "language_info": {
      "codemirror_mode": {
        "name": "python",
        "version": 3
      },
      "file_extension": ".py",
      "mimetype": "text/x-python",
      "name": "python",
      "nbconvert_exporter": "python",
      "pygments_lexer": "ipython3",
      "version": "3.8"
    }
  },
  "nbformat_minor": 4,
  "nbformat": 4,
  "cells": [
    {
      "cell_type": "markdown",
      "source": "# Constants",
      "metadata": {}
    },
    {
      "cell_type": "code",
      "source": "V_CC = 15\nK_N = 5e-3\nV_TN = -2\nLAMBDA = 0.01\n\nR_1 = 1e3\nR_2 = 6500\nR_SS = 80e3\nR_L = 300",
      "metadata": {
        "trusted": true
      },
      "outputs": [],
      "execution_count": 60
    },
    {
      "cell_type": "code",
      "source": "def par_res(*res: list[float]) -> float:\n    return sum(map(lambda x: x**-1, res))**-1",
      "metadata": {
        "trusted": true
      },
      "outputs": [],
      "execution_count": 61
    },
    {
      "cell_type": "markdown",
      "source": "# DC Analysis",
      "metadata": {}
    },
    {
      "cell_type": "code",
      "source": "import sympy\n\nI_D = sympy.symbols(\"I_D\")\n\nV_G = V_CC * R_2 / (R_2 + R_1)\nprint(f\"V_G: {V_G}\")\nV_D = V_CC\nprint(f\"V_D: {V_D}\")\n\nV_S = I_D * R_SS\nI_D_expr = K_N * (V_G - V_S - V_TN)**2\ndisplay(I_D_expr)\nI_D1, I_D2 = sympy.solve(I_D_expr - I_D, I_D)\nprint(f\"Potential I_D: {I_D1}, {I_D2}\")\n\nV_S1 = I_D1 * R_SS\nprint(f\"V_S1: {V_S1}\")\nV_S2 = I_D2 * R_SS\nprint(f\"V_S2: {V_S2}\")\n\nV_GS1 = V_G - V_S1\nV_GS2 = V_G - V_S2\nV_DS1 = V_D - V_S1\nV_DS2 = V_D - V_S2\n\nI_D1_valid = V_DS1 >= (V_GS1 - V_TN) and V_GS1 > V_TN\nI_D2_valid = V_DS2 >= (V_GS2 - V_TN) and V_GS2 > V_TN\nprint(I_D1_valid, I_D2_valid)\n\nassert I_D1_valid or I_D2_valid, \"No Valid I_D Found\"\nif I_D1_valid:\n    I_D = I_D1\nelse:\n    I_D = I_D2\nprint(f\"I_D: {I_D}\")",
      "metadata": {
        "trusted": true
      },
      "outputs": [
        {
          "name": "stdout",
          "text": "V_G: 13.0\nV_D: 15\n",
          "output_type": "stream"
        },
        {
          "output_type": "display_data",
          "data": {
            "text/plain": "32000000.0*(0.0001875 - I_D)**2",
            "text/latex": "$\\displaystyle 32000000.0 \\left(0.0001875 - I_{D}\\right)^{2}$"
          },
          "metadata": {}
        },
        {
          "name": "stdout",
          "text": "Potential I_D: 0.000185094959979675, 0.000189936290020325\nV_S1: 14.8075967983740\nV_S2: 15.1949032016260\nTrue False\nI_D: 0.000185094959979675\n",
          "output_type": "stream"
        }
      ],
      "execution_count": 62
    },
    {
      "cell_type": "markdown",
      "source": "# AC Analysis",
      "metadata": {}
    },
    {
      "cell_type": "code",
      "source": "from math import sqrt\n\ng_m = 2 * sqrt(K_N * I_D)\nr_0 = 1 / (LAMBDA * I_D)\nprint(f\"g_m: {g_m}\")\nprint(f\"r_0: {r_0}\")",
      "metadata": {
        "trusted": true
      },
      "outputs": [
        {
          "name": "stdout",
          "text": "g_m: 0.0019240320162599947\nr_0: 540263.224946702\n",
          "output_type": "stream"
        }
      ],
      "execution_count": 63
    },
    {
      "cell_type": "code",
      "source": "import sympy\n\nV_gs, V_o = sympy.symbols(\"V_g V_o\")\n\nV_o = sympy.solve(par_res(R_L, R_SS, r_0) * g_m * (V_gs - V_o) - V_o, V_o)[0]\nV_i = V_g\ngain = V_o / V_i\nprint(gain)",
      "metadata": {
        "trusted": true
      },
      "outputs": [
        {
          "name": "stdout",
          "text": "0.364972602291683\n",
          "output_type": "stream"
        }
      ],
      "execution_count": 66
    },
    {
      "cell_type": "code",
      "source": "import sympy\n\nK_Ns, V_TNs = sympy.symbols(\"K_N V_TN\")\nR_1s, R_2s, R_SSs = sympy.symbols(\"R_1 R_2 R_SS\")\nI_Ds, V_G, V_S = sympy.symbols(\"I_D, V_G, V_S\")\n\nV_S = I_Ds * R_SSs\nI_D_ex = sympy.collect(sympy.expand(K_Ns * (V_G - V_S - V_TNs)**2 - I_Ds), I_Ds)\ndisplay(I_D_ex)\n# V_G = V_CC * R_2 / (R_2 + R_1)\nI_D_ex = I_D_ex.subs({K_Ns: 5e-3, V_G: V_CC * R_2 / (R_2 + R_1), V_TNs: -2, R_1s: R_1, R_2s: R_2, R_SSs: R_SS})\nsympy.solve(I_D_ex, I_Ds)",
      "metadata": {
        "trusted": true
      },
      "outputs": [
        {
          "output_type": "display_data",
          "data": {
            "text/plain": "I_D**2*K_N*R_SS**2 + I_D*(-2*K_N*R_SS*V_G + 2*K_N*R_SS*V_TN - 1) + K_N*V_G**2 - 2*K_N*V_G*V_TN + K_N*V_TN**2",
            "text/latex": "$\\displaystyle I_{D}^{2} K_{N} R_{SS}^{2} + I_{D} \\left(- 2 K_{N} R_{SS} V_{G} + 2 K_{N} R_{SS} V_{TN} - 1\\right) + K_{N} V_{G}^{2} - 2 K_{N} V_{G} V_{TN} + K_{N} V_{TN}^{2}$"
          },
          "metadata": {}
        },
        {
          "execution_count": 65,
          "output_type": "execute_result",
          "data": {
            "text/plain": "[0.000185094959979675, 0.000189936290020325]"
          },
          "metadata": {}
        }
      ],
      "execution_count": 65
    }
  ]
}