{
  "metadata": {
    "kernelspec": {
      "name": "python",
      "display_name": "Python (Pyodide)",
      "language": "python"
    },
    "language_info": {
      "codemirror_mode": {
        "name": "python",
        "version": 3
      },
      "file_extension": ".py",
      "mimetype": "text/x-python",
      "name": "python",
      "nbconvert_exporter": "python",
      "pygments_lexer": "ipython3",
      "version": "3.8"
    }
  },
  "nbformat_minor": 4,
  "nbformat": 4,
  "cells": [
    {
      "cell_type": "markdown",
      "source": "# Setup",
      "metadata": {}
    },
    {
      "cell_type": "markdown",
      "source": "## Constants",
      "metadata": {}
    },
    {
      "cell_type": "code",
      "source": "V_CC = 15\n\n# BJT Constants\nV_T = 26e-3\nV_BE = 0.7\nbeta = 150\nV_A = 65\n\n# FET Constants\nK_N = 5e-3\nV_TN = -2\nLAMBDA = 0.01\n\n# Q1 Values\nR_S = 8e3\nR_11 = 1e3\nR_21 = 501\nR_C1 = 1e3\nR_E1 = 500\n\n# Q2 Values\nR_12 = 6e3\nR_22 = 8e3\nR_C2 = 2e3\nR_E2 = 3.8e3\n\n# M3 Values\nR_13 = 1e3\nR_23 = 6.5e3\nR_SS = 80e3\nR_L = 300",
      "metadata": {
        "trusted": true
      },
      "outputs": [],
      "execution_count": 1
    },
    {
      "cell_type": "markdown",
      "source": "## Utility",
      "metadata": {}
    },
    {
      "cell_type": "code",
      "source": "from sympy import Function, Pow\n\n\ndef par_res(*res: list[float]) -> float:\n    return sum(map(lambda x: x**-1, res))**-1\n\n\nclass ParallelResistor(Function):\n    \"\"\"A sympy function representing resistors in parallel.\"\"\"\n    def _latex(self, printer):\n        return \"(\" + \"||\".join(map(printer._print, self.args)) + \")\"\n\n    def _eval_evalf(self, prec):\n        return par_res(*self.args)._eval_evalf(prec)",
      "metadata": {
        "trusted": true
      },
      "outputs": [],
      "execution_count": 2
    },
    {
      "cell_type": "markdown",
      "source": "## Symbols",
      "metadata": {}
    },
    {
      "cell_type": "code",
      "source": "from sympy import symbols\nV_CCs = symbols(\"V_CC\")\n\n# BJT Constants\nV_Ts, V_BEs, BETAs, V_As = symbols(\"V_T V_BE beta V_A\")\n\n# FET Constants\nK_Ns, V_TNs, LAMBDAs = symbols(\"K_n V_TN lambda\")\n\n# Q1 Values\nR_Ss, R_11s, R_21s, R_C1s, R_E1s = symbols(\"R_S R_11 R_21 R_C1 R_E1\")\n\n# Q2 Values\nR_12s, R_22s, R_C2s, R_E2s = symbols(\"R_12 R_22 R_C2 R_E2\")\n\n# M3 Values\nR_13s, R_23s, R_SSs, R_Ls = symbols(\"R_13 R_23 R_SS R_L\")",
      "metadata": {
        "trusted": true,
        "tags": [],
        "editable": true,
        "slideshow": {
          "slide_type": ""
        }
      },
      "outputs": [],
      "execution_count": 3
    },
    {
      "cell_type": "markdown",
      "source": "# DC Analysis",
      "metadata": {}
    },
    {
      "cell_type": "markdown",
      "source": "## Q1",
      "metadata": {}
    },
    {
      "cell_type": "code",
      "source": "import sympy\n\nI_B1s = sympy.Symbol(\"I_B1\")\nR_THs, V_THs = sympy.symbols(\"R_TH V_TH\")\n\nR_TH = par_res(R_11, R_22)\nV_TH = V_CC * R_21 / (R_11 + R_21)\n\nexpr = sympy.solve(-V_THs + I_B1s * R_THs + V_BEs + (1 + BETAs) * I_B1s * R_E1s, I_B1s)[0]\ndisplay(expr)\n\nI_B1 = expr.subs({ V_BEs: V_BE, V_THs: V_TH, R_E1s: R_E1, R_THs: R_TH, BETAs: beta })\nI_C1 = beta * I_B1",
      "metadata": {
        "trusted": true
      },
      "outputs": [
        {
          "output_type": "display_data",
          "data": {
            "text/plain": "(-V_BE + V_TH)/(R_E1*beta + R_E1 + R_TH)",
            "text/latex": "$\\displaystyle \\frac{- V_{BE} + V_{TH}}{R_{E1} \\beta + R_{E1} + R_{TH}}$"
          },
          "metadata": {}
        }
      ],
      "execution_count": 23
    },
    {
      "cell_type": "markdown",
      "source": "## Q2",
      "metadata": {}
    },
    {
      "cell_type": "code",
      "source": "R_TH = ParallelResistor(R_12, R_22)\nV_TH = V_CC * R_22 / (R_12 + R_22)\nexpr = sympy.solve(-V_THs + I_B * R_THs + V_BEs + (1 + betas) * I_B * R_Es, I_B)[0]\ndisplay(expr)\nI_B2 = expr.subs({ V_BEs: V_BE, V_THs: V_TH, R_Es: R_E2, R_THs: R_TH, betas: beta })\nI_C2 = beta * I_B2",
      "metadata": {
        "trusted": true
      },
      "outputs": [],
      "execution_count": null
    },
    {
      "cell_type": "markdown",
      "source": "## M3",
      "metadata": {}
    },
    {
      "cell_type": "code",
      "source": "V_G = V_CC * R_2s / (R_2s + R_1s)\nprint(f\"V_G: {V_G}\")\nV_D = V_CC\nprint(f\"V_D: {V_D}\")\n\nV_S = I_D * R_SS\nI_D_expr = K_N * (V_G - V_S - V_TN)**2\ndisplay(I_D_expr)\nI_D1, I_D2 = sympy.solve(I_D_expr - I_D, I_D)\nprint(f\"Potential I_D: {I_D1}, {I_D2}\")\n\nV_S1 = I_D1 * R_SS\nprint(f\"V_S1: {V_S1}\")\nV_S2 = I_D2 * R_SS\nprint(f\"V_S2: {V_S2}\")\n\nV_GS1 = V_G - V_S1\nV_GS2 = V_G - V_S2\nV_DS1 = V_D - V_S1\nV_DS2 = V_D - V_S2\n\nI_D1_valid = V_DS1 >= (V_GS1 - V_TN) and V_GS1 > V_TN\nI_D2_valid = V_DS2 >= (V_GS2 - V_TN) and V_GS2 > V_TN\nprint(I_D1_valid, I_D2_valid)\n\nassert I_D1_valid or I_D2_valid, \"No Valid I_D Found\"\nif I_D1_valid:\n    I_D = I_D1\nelse:\n    I_D = I_D2\nprint(f\"I_D: {I_D}\")",
      "metadata": {
        "trusted": true
      },
      "outputs": [],
      "execution_count": null
    },
    {
      "cell_type": "markdown",
      "source": "# AC Analysis",
      "metadata": {}
    },
    {
      "cell_type": "code",
      "source": "import numpy as np\n\n# Q1\nr_pi1 = V_T / I_B1\ng_m1 = I_C1 / V_T\nr_01 = V_A / I_C1\nprint(f\"r_pi1: {r_pi1}\")\nprint(f\"g_m1: {g_m1}\")\nprint(f\"r_01: {r_01}\")\n\n# Q2\nr_pi2 = V_T / I_B2\ng_m2 = I_C2 / V_T\nr_02 = V_A / I_C2\nprint(f\"r_pi2: {r_pi2}\")\nprint(f\"g_m2: {g_m2}\")\nprint(f\"r_02: {r_02}\")\n\n# M3\ng_m3 = 2 * np.sqrt(K_N * float(I_D))\nr_03 = 1 / (LAMBDA * I_D)\nprint(f\"g_m3: {g_m3}\")\nprint(f\"r_03: {r_03}\")",
      "metadata": {
        "trusted": true
      },
      "outputs": [],
      "execution_count": null
    },
    {
      "cell_type": "code",
      "source": "import sympy\n\n# Q1 Symbols\nv_pi1 = sympy.symbols(\"v_pi_1\")\nr_pi1s, g_m1s, r_01s = sympy.symbols(\"r_pi_1 g_m_1 r_0_1\")\nR_11s, R_21s, R_C1s, R_Si = sympy.symbols(\"R_1_1 R_2_1 R_C_1 R_S\")\n\n# Q2 Symbols\nv_pi2 = sympy.symbols(\"v_pi_2\")\nr_pi2s, g_m2s, r_02s = sympy.symbols(\"r_pi_2 g_m2 r_02\")\nR_12s, R_22s, R_C2s = sympy.symbols(\"R_12 R_22 R_C2\")\n\n# M3 Symbols\nV_g, V_gs = sympy.symbols(\"V_g V_gs\")\ng_m3s, r_03s = sympy.symbols(\"g_m3 r_03\")\nR_13s, R_23s, R_SSs, R_Ls = sympy.symbols(\"R_13 R_23 R_SS R_L\")\n\n# Branch 1\nR_1_p_R_2 = ParallelResistor(R_11s, R_21s, r_pi1s)\nV_i = v_pi1 * (R_1_p_R_2 + R_Si) / R_1_p_R_2\n# display(V_i)\n\n# Branch 2\neq1 = -g_m1s * v_pi1 * ParallelResistor(r_01s, R_12s, R_22s, R_C1s, r_pi2s) - v_pi2\n# display(eq1)\n\n# Branch 3\neq2 = -g_m2s * v_pi2 * ParallelResistor(r_02s, R_C2s, R_13s, R_23s) - V_g\n# display(eq2)\n\n# Branch 4\nV_o = g_m3s * V_gs * ParallelResistor(r_03s, R_Ls, R_SSs)\n# display(V_o)\neq3 = V_g - V_o - V_gs\n# display(eq3)\n\n# Gain\nA_v = (V_o / V_i).subs({\n    v_pi1: sympy.solve(eq1, v_pi1)[0],\n    v_pi2: sympy.solve(eq2, v_pi2)[0],\n    V_gs: sympy.solve(eq3, V_gs)[0]\n})\ndisplay(A_v)\nA_v.subs({ \n    g_m1s: g_m1, g_m2s: g_m2, g_m3s: g_m3,\n    r_01s: r_01, r_02s: r_02, r_03s: r_03,\n    r_pi1s: r_pi1, r_pi2s: r_pi2,\n    R_Si: R_S, R_11s: R_11, R_21s: R_21, R_C1s: R_C1,\n    R_12s: R_12, R_22s: R_22, R_C2s: R_C2,\n    R_SSs: R_SS, R_Ls: R_L, R_13s: R_13, R_23s: R_23,\n}).evalf()",
      "metadata": {
        "trusted": true
      },
      "outputs": [],
      "execution_count": null
    }
  ]
}