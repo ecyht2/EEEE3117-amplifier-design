{
  "metadata": {
    "kernelspec": {
      "name": "python",
      "display_name": "Python (Pyodide)",
      "language": "python"
    },
    "language_info": {
      "codemirror_mode": {
        "name": "python",
        "version": 3
      },
      "file_extension": ".py",
      "mimetype": "text/x-python",
      "name": "python",
      "nbconvert_exporter": "python",
      "pygments_lexer": "ipython3",
      "version": "3.8"
    }
  },
  "nbformat_minor": 4,
  "nbformat": 4,
  "cells": [
    {
      "cell_type": "code",
      "source": "V_T = 26e-3\nV_CC = 15\nV_BE = 0.7\nbeta = 150\nV_A = 65\n\nR_S = 8e3\nR_11 = 1e3\nR_21 = 501\nR_C1 = 10e3\nR_E1 = 5e3\n\nR_12 = 6e3\nR_22 = 8e3\nR_C2 = 20e3\nR_E2 = 38e3",
      "metadata": {
        "trusted": true
      },
      "outputs": [],
      "execution_count": 53
    },
    {
      "cell_type": "code",
      "source": "def par_res(*res: list[float]) -> float:\n    return sum(map(lambda x: x**-1, res))**-1",
      "metadata": {
        "trusted": true
      },
      "outputs": [],
      "execution_count": 54
    },
    {
      "cell_type": "code",
      "source": "import sympy\n\nI_B = sympy.symbols(\"I_B\")\nV_THs, R_THs = sympy.symbols(\"V_TH R_TH\")\nV_BEs, betas = sympy.symbols(\"V_BE beta\")\nR_1s, R_2s, R_Es = sympy.symbols(\"R_1 R_2 R_E\")\n\nR_TH = par_res(R_11, R_21)\nV_TH = V_CC * R_21 / (R_11 + R_21)\nexpr = sympy.solve(-V_THs + I_B * R_THs + V_BEs + (1 + betas) * I_B * R_Es, I_B)[0]\ndisplay(expr)\nI_B1 = expr.subs({ V_BEs: V_BE, V_THs: V_TH, R_Es: R_E1, R_THs: R_TH, betas: beta })\nI_C1 = beta * I_B1\n\nimport sympy\n\nI_B = sympy.symbols(\"I_B\")\nV_THs, R_THs = sympy.symbols(\"V_TH R_TH\")\nV_BEs, betas = sympy.symbols(\"V_BE beta\")\nR_1s, R_2s, R_Es = sympy.symbols(\"R_1 R_2 R_E\")\n\nR_TH = par_res(R_12, R_22)\nV_TH = V_CC * R_22 / (R_12 + R_22)\nexpr = sympy.solve(-V_THs + I_B * R_THs + V_BEs + (1 + betas) * I_B * R_Es, I_B)[0]\ndisplay(expr)\nI_B2 = expr.subs({ V_BEs: V_BE, V_THs: V_TH, R_Es: R_E2, R_THs: R_TH, betas: beta })\nI_C2 = beta * I_B2",
      "metadata": {
        "trusted": true
      },
      "outputs": [
        {
          "output_type": "display_data",
          "data": {
            "text/plain": "(-V_BE + V_TH)/(R_E*beta + R_E + R_TH)",
            "text/latex": "$\\displaystyle \\frac{- V_{BE} + V_{TH}}{R_{E} \\beta + R_{E} + R_{TH}}$"
          },
          "metadata": {}
        },
        {
          "output_type": "display_data",
          "data": {
            "text/plain": "(-V_BE + V_TH)/(R_E*beta + R_E + R_TH)",
            "text/latex": "$\\displaystyle \\frac{- V_{BE} + V_{TH}}{R_{E} \\beta + R_{E} + R_{TH}}$"
          },
          "metadata": {}
        }
      ],
      "execution_count": 55
    },
    {
      "cell_type": "code",
      "source": "r_pi1 = V_T / I_B1\ng_m1 = I_C1 / V_T\nr_01 = V_A / I_C1\n\nr_pi2 = V_T / I_B2\ng_m2 = I_C2 / V_T\nr_02 = V_A / I_C2",
      "metadata": {
        "trusted": true
      },
      "outputs": [],
      "execution_count": 56
    },
    {
      "cell_type": "code",
      "source": "import sympy\n\nv_pi1 = sympy.symbols(\"v_pi_1\")\nr_pi1s, g_m1s, r_01s = sympy.symbols(\"r_pi_1 g_m_1 r_0_1\")\nR_11s, R_21s, R_C1s, R_Si = sympy.symbols(\"R_1_1 R_2_1 R_C_1 R_S\")\n\nR_1_p_R_2 = par_res(R_11s, R_21s, r_pi1_s)\nV_i = v_pi1 * (R_1_p_R_2 + R_Si) / R_1_p_R_2\ndisplay(V_i)\n\nv_pi2 = sympy.symbols(\"v_pi_2\")\nr_pi2s, g_m2s, r_02s = sympy.symbols(\"r_pi_2 g_m2 r_02\")\nR_12s, R_22s, R_C2s = sympy.symbols(\"R_12 R_22 R_C2\")\n\nV_o = -g_m2s * v_pi2 * par_res(r_02s, R_C2s)\ndisplay(V_o)\n\neq1 = -g_m1s * v_pi1 * par_res(r_01s, R_12s, R_22s, R_C1s, r_pi2s)\ndisplay(eq1)\n\nA_v = (V_o / V_i).subs({ v_pi2: eq1 })\ndisplay(A_v)\nA_v.subs({ \n    g_m1s: g_m1, g_m2s: g_m2,\n    R_Si: R_S, R_11s: R_11, R_21s: R_21, R_C1s: R_C1,\n    R_12s: R_12, R_22s: R_22, R_C2s: R_C2,\n    r_01s: r_01, r_02s: r_02,\n    r_pi1s: r_pi1, r_pi2s: r_pi2\n})",
      "metadata": {
        "trusted": true
      },
      "outputs": [
        {
          "output_type": "display_data",
          "data": {
            "text/plain": "v_pi_1*(R_S + 1/(1/r_pi_1 + 1/R_2_1 + 1/R_1_1))*(1/r_pi_1 + 1/R_2_1 + 1/R_1_1)",
            "text/latex": "$\\displaystyle v_{\\pi 1} \\left(R_{S} + \\frac{1}{\\frac{1}{r_{\\pi 1}} + \\frac{1}{R_{2 1}} + \\frac{1}{R_{1 1}}}\\right) \\left(\\frac{1}{r_{\\pi 1}} + \\frac{1}{R_{2 1}} + \\frac{1}{R_{1 1}}\\right)$"
          },
          "metadata": {}
        },
        {
          "output_type": "display_data",
          "data": {
            "text/plain": "-g_m2*v_pi_2/(1/r_02 + 1/R_C2)",
            "text/latex": "$\\displaystyle - \\frac{g_{m2} v_{\\pi 2}}{\\frac{1}{r_{02}} + \\frac{1}{R_{C2}}}$"
          },
          "metadata": {}
        },
        {
          "output_type": "display_data",
          "data": {
            "text/plain": "-g_m_1*v_pi_1/(1/r_pi_2 + 1/r_0_1 + 1/R_C_1 + 1/R_22 + 1/R_12)",
            "text/latex": "$\\displaystyle - \\frac{g_{m 1} v_{\\pi 1}}{\\frac{1}{r_{\\pi 2}} + \\frac{1}{r_{0 1}} + \\frac{1}{R_{C 1}} + \\frac{1}{R_{22}} + \\frac{1}{R_{12}}}$"
          },
          "metadata": {}
        },
        {
          "output_type": "display_data",
          "data": {
            "text/plain": "g_m2*g_m_1/((R_S + 1/(1/r_pi_1 + 1/R_2_1 + 1/R_1_1))*(1/r_02 + 1/R_C2)*(1/r_pi_1 + 1/R_2_1 + 1/R_1_1)*(1/r_pi_2 + 1/r_0_1 + 1/R_C_1 + 1/R_22 + 1/R_12))",
            "text/latex": "$\\displaystyle \\frac{g_{m2} g_{m 1}}{\\left(R_{S} + \\frac{1}{\\frac{1}{r_{\\pi 1}} + \\frac{1}{R_{2 1}} + \\frac{1}{R_{1 1}}}\\right) \\left(\\frac{1}{r_{02}} + \\frac{1}{R_{C2}}\\right) \\left(\\frac{1}{r_{\\pi 1}} + \\frac{1}{R_{2 1}} + \\frac{1}{R_{1 1}}\\right) \\left(\\frac{1}{r_{\\pi 2}} + \\frac{1}{r_{0 1}} + \\frac{1}{R_{C 1}} + \\frac{1}{R_{22}} + \\frac{1}{R_{12}}\\right)}$"
          },
          "metadata": {}
        },
        {
          "execution_count": 87,
          "output_type": "execute_result",
          "data": {
            "text/plain": "400.254603239681",
            "text/latex": "$\\displaystyle 400.254603239681$"
          },
          "metadata": {}
        }
      ],
      "execution_count": 87
    }
  ]
}